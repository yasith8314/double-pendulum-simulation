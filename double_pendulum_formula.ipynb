{
 "cells": [
  {
   "cell_type": "code",
   "execution_count": 29,
   "metadata": {},
   "outputs": [
    {
     "data": {
      "text/latex": [
       "$\\displaystyle x_{1}{\\left(t \\right)} = l_{1} \\sin{\\left(\\theta_{1}{\\left(t \\right)} \\right)}$"
      ],
      "text/plain": [
       "Eq(x1(t), l1*sin(theta1(t)))"
      ]
     },
     "metadata": {},
     "output_type": "display_data"
    },
    {
     "data": {
      "text/latex": [
       "$\\displaystyle x_{2}{\\left(t \\right)} = l_{1} \\sin{\\left(\\theta_{1}{\\left(t \\right)} \\right)} + l_{2} \\sin{\\left(\\theta_{2}{\\left(t \\right)} \\right)}$"
      ],
      "text/plain": [
       "Eq(x2(t), l1*sin(theta1(t)) + l2*sin(theta2(t)))"
      ]
     },
     "metadata": {},
     "output_type": "display_data"
    },
    {
     "data": {
      "text/latex": [
       "$\\displaystyle y_{1}{\\left(t \\right)} = - l_{1} \\cos{\\left(\\theta_{1}{\\left(t \\right)} \\right)}$"
      ],
      "text/plain": [
       "Eq(y1(t), -l1*cos(theta1(t)))"
      ]
     },
     "metadata": {},
     "output_type": "display_data"
    },
    {
     "data": {
      "text/latex": [
       "$\\displaystyle y_{2}{\\left(t \\right)} = - l_{1} \\cos{\\left(\\theta_{1}{\\left(t \\right)} \\right)} - l_{2} \\cos{\\left(\\theta_{2}{\\left(t \\right)} \\right)}$"
      ],
      "text/plain": [
       "Eq(y2(t), -l1*cos(theta1(t)) - l2*cos(theta2(t)))"
      ]
     },
     "metadata": {},
     "output_type": "display_data"
    }
   ],
   "source": [
    "from sympy import *\n",
    "from math import pi\n",
    "from scipy.integrate import solve_ivp\n",
    "\n",
    "\n",
    "#Initial Required Symbols\n",
    "t, g = symbols(\"t g\")\n",
    "l1, l2, m1, m2 = symbols(\"l1 l2 m1 m2\")\n",
    "a1 = Function(\"theta1\")(t) \n",
    "a2 = Function(\"theta2\")(t)\n",
    "x1_s, x2_s, y1_s, y2_s = symbols(\"x1 x2 y1 y2\", cls=Function)\n",
    "\n",
    "#Positions of the masses\n",
    "x1 = l1 * sin(a1)\n",
    "x2 = l2 * sin(a2) + x1\n",
    "y1 = -l1 * cos(a1)\n",
    "y2 = -l2 * cos(a2) + y1\n",
    "\n",
    "\n",
    "display(Eq(x1_s(t), x1))\n",
    "display(Eq(x2_s(t), x2))\n",
    "display(Eq(y1_s(t), y1))\n",
    "display(Eq(y2_s(t), y2))"
   ]
  },
  {
   "cell_type": "code",
   "execution_count": 30,
   "metadata": {},
   "outputs": [
    {
     "data": {
      "text/latex": [
       "$\\displaystyle \\frac{d}{d t} x_{1}{\\left(t \\right)} = l_{1} \\cos{\\left(\\theta_{1}{\\left(t \\right)} \\right)} \\frac{d}{d t} \\theta_{1}{\\left(t \\right)}$"
      ],
      "text/plain": [
       "Eq(Derivative(x1(t), t), l1*cos(theta1(t))*Derivative(theta1(t), t))"
      ]
     },
     "metadata": {},
     "output_type": "display_data"
    },
    {
     "data": {
      "text/latex": [
       "$\\displaystyle \\frac{d}{d t} x_{2}{\\left(t \\right)} = l_{1} \\cos{\\left(\\theta_{1}{\\left(t \\right)} \\right)} \\frac{d}{d t} \\theta_{1}{\\left(t \\right)} + l_{2} \\cos{\\left(\\theta_{2}{\\left(t \\right)} \\right)} \\frac{d}{d t} \\theta_{2}{\\left(t \\right)}$"
      ],
      "text/plain": [
       "Eq(Derivative(x2(t), t), l1*cos(theta1(t))*Derivative(theta1(t), t) + l2*cos(theta2(t))*Derivative(theta2(t), t))"
      ]
     },
     "metadata": {},
     "output_type": "display_data"
    },
    {
     "data": {
      "text/latex": [
       "$\\displaystyle \\frac{d}{d t} y_{1}{\\left(t \\right)} = l_{1} \\sin{\\left(\\theta_{1}{\\left(t \\right)} \\right)} \\frac{d}{d t} \\theta_{1}{\\left(t \\right)}$"
      ],
      "text/plain": [
       "Eq(Derivative(y1(t), t), l1*sin(theta1(t))*Derivative(theta1(t), t))"
      ]
     },
     "metadata": {},
     "output_type": "display_data"
    },
    {
     "data": {
      "text/latex": [
       "$\\displaystyle \\frac{d}{d t} y_{2}{\\left(t \\right)} = l_{1} \\sin{\\left(\\theta_{1}{\\left(t \\right)} \\right)} \\frac{d}{d t} \\theta_{1}{\\left(t \\right)} + l_{2} \\sin{\\left(\\theta_{2}{\\left(t \\right)} \\right)} \\frac{d}{d t} \\theta_{2}{\\left(t \\right)}$"
      ],
      "text/plain": [
       "Eq(Derivative(y2(t), t), l1*sin(theta1(t))*Derivative(theta1(t), t) + l2*sin(theta2(t))*Derivative(theta2(t), t))"
      ]
     },
     "metadata": {},
     "output_type": "display_data"
    }
   ],
   "source": [
    "#Velocities of the Masses\n",
    "x1_dot = diff(x1, t)\n",
    "x2_dot = diff(x2, t)\n",
    "y1_dot = diff(y1, t)\n",
    "y2_dot = diff(y2, t)\n",
    "\n",
    "display(Eq(diff(x1_s(t), t), x1_dot))\n",
    "display(Eq(diff(x2_s(t), t), x2_dot))\n",
    "display(Eq(diff(y1_s(t), t), y1_dot))\n",
    "display(Eq(diff(y2_s(t), t), y2_dot))"
   ]
  },
  {
   "cell_type": "code",
   "execution_count": 31,
   "metadata": {},
   "outputs": [
    {
     "data": {
      "text/latex": [
       "$\\displaystyle \\frac{l_{1}^{2} m_{1} \\left(\\frac{d}{d t} \\theta_{1}{\\left(t \\right)}\\right)^{2}}{2} + \\frac{m_{2} \\left(l_{1}^{2} \\left(\\frac{d}{d t} \\theta_{1}{\\left(t \\right)}\\right)^{2} + 2 l_{1} l_{2} \\cos{\\left(\\theta_{1}{\\left(t \\right)} - \\theta_{2}{\\left(t \\right)} \\right)} \\frac{d}{d t} \\theta_{1}{\\left(t \\right)} \\frac{d}{d t} \\theta_{2}{\\left(t \\right)} + l_{2}^{2} \\left(\\frac{d}{d t} \\theta_{2}{\\left(t \\right)}\\right)^{2}\\right)}{2}$"
      ],
      "text/plain": [
       "l1**2*m1*Derivative(theta1(t), t)**2/2 + m2*(l1**2*Derivative(theta1(t), t)**2 + 2*l1*l2*cos(theta1(t) - theta2(t))*Derivative(theta1(t), t)*Derivative(theta2(t), t) + l2**2*Derivative(theta2(t), t)**2)/2"
      ]
     },
     "metadata": {},
     "output_type": "display_data"
    }
   ],
   "source": [
    "#Kinetic Energy\n",
    "T = simplify(((m1 / 2) * ((x1_dot ** 2) + (y1_dot ** 2))) + ((m2 / 2) * ((x2_dot ** 2) + (y2_dot ** 2))))\n",
    "\n",
    "display(T)"
   ]
  },
  {
   "cell_type": "code",
   "execution_count": 32,
   "metadata": {},
   "outputs": [
    {
     "data": {
      "text/latex": [
       "$\\displaystyle - g \\left(l_{1} m_{1} \\cos{\\left(\\theta_{1}{\\left(t \\right)} \\right)} + l_{1} m_{2} \\cos{\\left(\\theta_{1}{\\left(t \\right)} \\right)} + l_{2} m_{2} \\cos{\\left(\\theta_{2}{\\left(t \\right)} \\right)}\\right)$"
      ],
      "text/plain": [
       "-g*(l1*m1*cos(theta1(t)) + l1*m2*cos(theta1(t)) + l2*m2*cos(theta2(t)))"
      ]
     },
     "metadata": {},
     "output_type": "display_data"
    }
   ],
   "source": [
    "#Potential Energy\n",
    "P = simplify((m1 * g * y1) + (m2 * g * y2))\n",
    "display(P)"
   ]
  },
  {
   "cell_type": "code",
   "execution_count": 33,
   "metadata": {},
   "outputs": [
    {
     "data": {
      "text/latex": [
       "$\\displaystyle g \\left(l_{1} m_{1} \\cos{\\left(\\theta_{1}{\\left(t \\right)} \\right)} + l_{1} m_{2} \\cos{\\left(\\theta_{1}{\\left(t \\right)} \\right)} + l_{2} m_{2} \\cos{\\left(\\theta_{2}{\\left(t \\right)} \\right)}\\right) + \\frac{l_{1}^{2} m_{1} \\left(\\frac{d}{d t} \\theta_{1}{\\left(t \\right)}\\right)^{2}}{2} + \\frac{m_{2} \\left(l_{1}^{2} \\left(\\frac{d}{d t} \\theta_{1}{\\left(t \\right)}\\right)^{2} + 2 l_{1} l_{2} \\cos{\\left(\\theta_{1}{\\left(t \\right)} - \\theta_{2}{\\left(t \\right)} \\right)} \\frac{d}{d t} \\theta_{1}{\\left(t \\right)} \\frac{d}{d t} \\theta_{2}{\\left(t \\right)} + l_{2}^{2} \\left(\\frac{d}{d t} \\theta_{2}{\\left(t \\right)}\\right)^{2}\\right)}{2}$"
      ],
      "text/plain": [
       "g*(l1*m1*cos(theta1(t)) + l1*m2*cos(theta1(t)) + l2*m2*cos(theta2(t))) + l1**2*m1*Derivative(theta1(t), t)**2/2 + m2*(l1**2*Derivative(theta1(t), t)**2 + 2*l1*l2*cos(theta1(t) - theta2(t))*Derivative(theta1(t), t)*Derivative(theta2(t), t) + l2**2*Derivative(theta2(t), t)**2)/2"
      ]
     },
     "metadata": {},
     "output_type": "display_data"
    }
   ],
   "source": [
    "#Lagrangian\n",
    "L = simplify(T - P)\n",
    "display(L)"
   ]
  },
  {
   "cell_type": "code",
   "execution_count": 34,
   "metadata": {},
   "outputs": [
    {
     "data": {
      "text/latex": [
       "$\\displaystyle l_{1} \\left(- g \\left(m_{1} + m_{2}\\right) \\sin{\\left(\\theta_{1}{\\left(t \\right)} \\right)} - l_{2} m_{2} \\sin{\\left(\\theta_{1}{\\left(t \\right)} - \\theta_{2}{\\left(t \\right)} \\right)} \\frac{d}{d t} \\theta_{1}{\\left(t \\right)} \\frac{d}{d t} \\theta_{2}{\\left(t \\right)}\\right)$"
      ],
      "text/plain": [
       "l1*(-g*(m1 + m2)*sin(theta1(t)) - l2*m2*sin(theta1(t) - theta2(t))*Derivative(theta1(t), t)*Derivative(theta2(t), t))"
      ]
     },
     "metadata": {},
     "output_type": "display_data"
    },
    {
     "data": {
      "text/latex": [
       "$\\displaystyle l_{2} m_{2} \\left(- g \\sin{\\left(\\theta_{2}{\\left(t \\right)} \\right)} + l_{1} \\sin{\\left(\\theta_{1}{\\left(t \\right)} - \\theta_{2}{\\left(t \\right)} \\right)} \\frac{d}{d t} \\theta_{1}{\\left(t \\right)} \\frac{d}{d t} \\theta_{2}{\\left(t \\right)}\\right)$"
      ],
      "text/plain": [
       "l2*m2*(-g*sin(theta2(t)) + l1*sin(theta1(t) - theta2(t))*Derivative(theta1(t), t)*Derivative(theta2(t), t))"
      ]
     },
     "metadata": {},
     "output_type": "display_data"
    }
   ],
   "source": [
    "p_a1 = simplify(diff(L, a1))\n",
    "p_a2 = simplify(diff(L, a2))\n",
    "\n",
    "display(p_a1)\n",
    "display(p_a2)"
   ]
  },
  {
   "cell_type": "code",
   "execution_count": 35,
   "metadata": {},
   "outputs": [
    {
     "data": {
      "text/latex": [
       "$\\displaystyle l_{1} \\left(l_{1} m_{1} \\frac{d}{d t} \\theta_{1}{\\left(t \\right)} + m_{2} \\left(l_{1} \\frac{d}{d t} \\theta_{1}{\\left(t \\right)} + l_{2} \\cos{\\left(\\theta_{1}{\\left(t \\right)} - \\theta_{2}{\\left(t \\right)} \\right)} \\frac{d}{d t} \\theta_{2}{\\left(t \\right)}\\right)\\right)$"
      ],
      "text/plain": [
       "l1*(l1*m1*Derivative(theta1(t), t) + m2*(l1*Derivative(theta1(t), t) + l2*cos(theta1(t) - theta2(t))*Derivative(theta2(t), t)))"
      ]
     },
     "metadata": {},
     "output_type": "display_data"
    },
    {
     "data": {
      "text/latex": [
       "$\\displaystyle l_{2} m_{2} \\left(l_{1} \\cos{\\left(\\theta_{1}{\\left(t \\right)} - \\theta_{2}{\\left(t \\right)} \\right)} \\frac{d}{d t} \\theta_{1}{\\left(t \\right)} + l_{2} \\frac{d}{d t} \\theta_{2}{\\left(t \\right)}\\right)$"
      ],
      "text/plain": [
       "l2*m2*(l1*cos(theta1(t) - theta2(t))*Derivative(theta1(t), t) + l2*Derivative(theta2(t), t))"
      ]
     },
     "metadata": {},
     "output_type": "display_data"
    }
   ],
   "source": [
    "p_a1_dot = simplify(diff(L, diff(a1, t)))\n",
    "p_a2_dot = simplify(diff(L, diff(a2, t)))\n",
    "\n",
    "display(p_a1_dot)\n",
    "display(p_a2_dot)"
   ]
  },
  {
   "cell_type": "code",
   "execution_count": 36,
   "metadata": {},
   "outputs": [
    {
     "data": {
      "text/latex": [
       "$\\displaystyle l_{1} \\left(g m_{1} \\sin{\\left(\\theta_{1}{\\left(t \\right)} \\right)} + g m_{2} \\sin{\\left(\\theta_{1}{\\left(t \\right)} \\right)} + l_{1} m_{1} \\frac{d^{2}}{d t^{2}} \\theta_{1}{\\left(t \\right)} + l_{1} m_{2} \\frac{d^{2}}{d t^{2}} \\theta_{1}{\\left(t \\right)} + l_{2} m_{2} \\sin{\\left(\\theta_{1}{\\left(t \\right)} - \\theta_{2}{\\left(t \\right)} \\right)} \\left(\\frac{d}{d t} \\theta_{2}{\\left(t \\right)}\\right)^{2} + l_{2} m_{2} \\cos{\\left(\\theta_{1}{\\left(t \\right)} - \\theta_{2}{\\left(t \\right)} \\right)} \\frac{d^{2}}{d t^{2}} \\theta_{2}{\\left(t \\right)}\\right)$"
      ],
      "text/plain": [
       "l1*(g*m1*sin(theta1(t)) + g*m2*sin(theta1(t)) + l1*m1*Derivative(theta1(t), (t, 2)) + l1*m2*Derivative(theta1(t), (t, 2)) + l2*m2*sin(theta1(t) - theta2(t))*Derivative(theta2(t), t)**2 + l2*m2*cos(theta1(t) - theta2(t))*Derivative(theta2(t), (t, 2)))"
      ]
     },
     "metadata": {},
     "output_type": "display_data"
    },
    {
     "data": {
      "text/latex": [
       "$\\displaystyle l_{2} m_{2} \\left(g \\sin{\\left(\\theta_{2}{\\left(t \\right)} \\right)} - l_{1} \\sin{\\left(\\theta_{1}{\\left(t \\right)} - \\theta_{2}{\\left(t \\right)} \\right)} \\left(\\frac{d}{d t} \\theta_{1}{\\left(t \\right)}\\right)^{2} + l_{1} \\cos{\\left(\\theta_{1}{\\left(t \\right)} - \\theta_{2}{\\left(t \\right)} \\right)} \\frac{d^{2}}{d t^{2}} \\theta_{1}{\\left(t \\right)} + l_{2} \\frac{d^{2}}{d t^{2}} \\theta_{2}{\\left(t \\right)}\\right)$"
      ],
      "text/plain": [
       "l2*m2*(g*sin(theta2(t)) - l1*sin(theta1(t) - theta2(t))*Derivative(theta1(t), t)**2 + l1*cos(theta1(t) - theta2(t))*Derivative(theta1(t), (t, 2)) + l2*Derivative(theta2(t), (t, 2)))"
      ]
     },
     "metadata": {},
     "output_type": "display_data"
    }
   ],
   "source": [
    "eq1 = simplify(simplify(diff(p_a1_dot, t)) - p_a1)\n",
    "eq2 = simplify(simplify(diff(p_a2_dot, t)) - p_a2)\n",
    "\n",
    "display(eq1)\n",
    "display(eq2)"
   ]
  },
  {
   "cell_type": "code",
   "execution_count": 37,
   "metadata": {},
   "outputs": [
    {
     "data": {
      "text/latex": [
       "$\\displaystyle g m_{1} \\sin{\\left(\\theta_{1}{\\left(t \\right)} \\right)} + g m_{2} \\sin{\\left(\\theta_{1}{\\left(t \\right)} \\right)} + l_{1} m_{1} \\frac{d^{2}}{d t^{2}} \\theta_{1}{\\left(t \\right)} + l_{1} m_{2} \\frac{d^{2}}{d t^{2}} \\theta_{1}{\\left(t \\right)} + l_{2} m_{2} \\sin{\\left(\\theta_{1}{\\left(t \\right)} - \\theta_{2}{\\left(t \\right)} \\right)} \\left(\\frac{d}{d t} \\theta_{2}{\\left(t \\right)}\\right)^{2} + l_{2} m_{2} \\cos{\\left(\\theta_{1}{\\left(t \\right)} - \\theta_{2}{\\left(t \\right)} \\right)} \\frac{d^{2}}{d t^{2}} \\theta_{2}{\\left(t \\right)} = 0$"
      ],
      "text/plain": [
       "Eq(g*m1*sin(theta1(t)) + g*m2*sin(theta1(t)) + l1*m1*Derivative(theta1(t), (t, 2)) + l1*m2*Derivative(theta1(t), (t, 2)) + l2*m2*sin(theta1(t) - theta2(t))*Derivative(theta2(t), t)**2 + l2*m2*cos(theta1(t) - theta2(t))*Derivative(theta2(t), (t, 2)), 0)"
      ]
     },
     "metadata": {},
     "output_type": "display_data"
    },
    {
     "data": {
      "text/latex": [
       "$\\displaystyle g \\sin{\\left(\\theta_{2}{\\left(t \\right)} \\right)} - l_{1} \\sin{\\left(\\theta_{1}{\\left(t \\right)} - \\theta_{2}{\\left(t \\right)} \\right)} \\left(\\frac{d}{d t} \\theta_{1}{\\left(t \\right)}\\right)^{2} + l_{1} \\cos{\\left(\\theta_{1}{\\left(t \\right)} - \\theta_{2}{\\left(t \\right)} \\right)} \\frac{d^{2}}{d t^{2}} \\theta_{1}{\\left(t \\right)} + l_{2} \\frac{d^{2}}{d t^{2}} \\theta_{2}{\\left(t \\right)} = 0$"
      ],
      "text/plain": [
       "Eq(g*sin(theta2(t)) - l1*sin(theta1(t) - theta2(t))*Derivative(theta1(t), t)**2 + l1*cos(theta1(t) - theta2(t))*Derivative(theta1(t), (t, 2)) + l2*Derivative(theta2(t), (t, 2)), 0)"
      ]
     },
     "metadata": {},
     "output_type": "display_data"
    }
   ],
   "source": [
    "ee1 = simplify(Eq(eq1 / l1, 0))\n",
    "ee2 = simplify(Eq(eq2 / (l2 * m2), 0))\n",
    "\n",
    "display(ee1)\n",
    "display(ee2)"
   ]
  },
  {
   "cell_type": "code",
   "execution_count": 38,
   "metadata": {},
   "outputs": [
    {
     "data": {
      "text/latex": [
       "$\\displaystyle g m_{1} \\sin{\\left(\\theta_{1}{\\left(t \\right)} \\right)} + g m_{2} \\sin{\\left(\\theta_{1}{\\left(t \\right)} \\right)} + l_{1} m_{1} \\frac{d}{d t} \\omega_{1}{\\left(t \\right)} + l_{1} m_{2} \\frac{d}{d t} \\omega_{1}{\\left(t \\right)} + l_{2} m_{2} \\omega_{2}^{2}{\\left(t \\right)} \\sin{\\left(\\theta_{1}{\\left(t \\right)} - \\theta_{2}{\\left(t \\right)} \\right)} + l_{2} m_{2} \\cos{\\left(\\theta_{1}{\\left(t \\right)} - \\theta_{2}{\\left(t \\right)} \\right)} \\frac{d}{d t} \\omega_{2}{\\left(t \\right)} = 0$"
      ],
      "text/plain": [
       "Eq(g*m1*sin(theta1(t)) + g*m2*sin(theta1(t)) + l1*m1*Derivative(omega1(t), t) + l1*m2*Derivative(omega1(t), t) + l2*m2*omega2(t)**2*sin(theta1(t) - theta2(t)) + l2*m2*cos(theta1(t) - theta2(t))*Derivative(omega2(t), t), 0)"
      ]
     },
     "metadata": {},
     "output_type": "display_data"
    },
    {
     "data": {
      "text/latex": [
       "$\\displaystyle g \\sin{\\left(\\theta_{2}{\\left(t \\right)} \\right)} - l_{1} \\omega_{1}^{2}{\\left(t \\right)} \\sin{\\left(\\theta_{1}{\\left(t \\right)} - \\theta_{2}{\\left(t \\right)} \\right)} + l_{1} \\cos{\\left(\\theta_{1}{\\left(t \\right)} - \\theta_{2}{\\left(t \\right)} \\right)} \\frac{d}{d t} \\omega_{1}{\\left(t \\right)} + l_{2} \\frac{d}{d t} \\omega_{2}{\\left(t \\right)} = 0$"
      ],
      "text/plain": [
       "Eq(g*sin(theta2(t)) - l1*omega1(t)**2*sin(theta1(t) - theta2(t)) + l1*cos(theta1(t) - theta2(t))*Derivative(omega1(t), t) + l2*Derivative(omega2(t), t), 0)"
      ]
     },
     "metadata": {},
     "output_type": "display_data"
    }
   ],
   "source": [
    "#Replace (theta dot) with omega\n",
    "o1 = Function(\"omega1\")(t)\n",
    "o2 = Function(\"omega2\")(t)\n",
    "\n",
    "ee1 = ee1.subs(diff(a1, t), o1).subs(diff(a2, t), o2)\n",
    "ee2 = ee2.subs(diff(a2, t), o2).subs(diff(a1, t), o1)\n",
    "\n",
    "display(ee1)\n",
    "display(ee2)"
   ]
  }
 ],
 "metadata": {
  "kernelspec": {
   "display_name": "Python 3",
   "language": "python",
   "name": "python3"
  },
  "language_info": {
   "codemirror_mode": {
    "name": "ipython",
    "version": 3
   },
   "file_extension": ".py",
   "mimetype": "text/x-python",
   "name": "python",
   "nbconvert_exporter": "python",
   "pygments_lexer": "ipython3",
   "version": "3.11.9"
  }
 },
 "nbformat": 4,
 "nbformat_minor": 2
}
